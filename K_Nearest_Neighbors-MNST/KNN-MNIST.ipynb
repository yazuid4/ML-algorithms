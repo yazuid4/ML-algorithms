{
 "cells": [
  {
   "cell_type": "markdown",
   "metadata": {},
   "source": [
    "### Nearest neighbor for handwritten digit recognition"
   ]
  },
  {
   "cell_type": "code",
   "execution_count": 1,
   "metadata": {},
   "outputs": [],
   "source": [
    "%matplotlib inline\n",
    "import numpy as np\n",
    "import matplotlib.pyplot as plt \n",
    "import time"
   ]
  },
  {
   "cell_type": "code",
   "execution_count": 2,
   "metadata": {},
   "outputs": [],
   "source": [
    "## Load the training set\n",
    "train_data = np.load('MNIST/train_data.npy')\n",
    "train_labels = np.load('MNIST/train_labels.npy')\n",
    "\n",
    "## Load the testing set\n",
    "test_data = np.load('MNIST/test_data.npy')\n",
    "test_labels = np.load('MNIST/test_labels.npy')"
   ]
  },
  {
   "cell_type": "code",
   "execution_count": 3,
   "metadata": {},
   "outputs": [
    {
     "data": {
      "text/plain": [
       "(7500, 784)"
      ]
     },
     "execution_count": 3,
     "metadata": {},
     "output_type": "execute_result"
    }
   ],
   "source": [
    "train_data.shape"
   ]
  },
  {
   "cell_type": "code",
   "execution_count": 4,
   "metadata": {},
   "outputs": [
    {
     "data": {
      "text/plain": [
       "(7500,)"
      ]
     },
     "execution_count": 4,
     "metadata": {},
     "output_type": "execute_result"
    }
   ],
   "source": [
    "train_labels.shape"
   ]
  },
  {
   "cell_type": "markdown",
   "metadata": {},
   "source": [
    "###  Visualizing the data"
   ]
  },
  {
   "cell_type": "code",
   "execution_count": 22,
   "metadata": {},
   "outputs": [],
   "source": [
    "def plot_img(x):\n",
    "    plt.axis(\"off\")\n",
    "    plt.imshow(x.reshape(28,28), cmap=plt.cm.gray)\n",
    "    return "
   ]
  },
  {
   "cell_type": "code",
   "execution_count": 23,
   "metadata": {},
   "outputs": [
    {
     "data": {
      "image/png": "[encoded data removed]",
      "text/plain": [
       "<Figure size 432x288 with 1 Axes>"
      ]
     },
     "metadata": {
      "needs_background": "light"
     },
     "output_type": "display_data"
    }
   ],
   "source": [
    "plot_img(train_data[2])"
   ]
  },
  {
   "cell_type": "markdown",
   "metadata": {},
   "source": [
    "### Squared Euclidean distance"
   ]
  },
  {
   "cell_type": "markdown",
   "metadata": {},
   "source": [
    "To compute nearest neighbors in our data set, we need to first to compute distances between data points. A natural distance function is _Euclidean distance_: for two vectors $x, y \\in \\mathbb{R}^d$, their Euclidean distance is defined as \n",
    "$$\\|x - y\\|^2 = \\sum_{i=1}^d (x_i - y_i)^2.$$\n"
   ]
  },
  {
   "cell_type": "code",
   "execution_count": 13,
   "metadata": {},
   "outputs": [
    {
     "name": "stdout",
     "output_type": "stream",
     "text": [
      "5963946.0\n"
     ]
    }
   ],
   "source": [
    "def squared_distance(x,y):\n",
    "    return np.sum(np.square(x-y))\n",
    "\n",
    "print(squared_distance(train_data[2,], train_data[3,]))"
   ]
  },
  {
   "cell_type": "markdown",
   "metadata": {},
   "source": [
    "### Comptute Nearest Neighbor"
   ]
  },
  {
   "cell_type": "code",
   "execution_count": 15,
   "metadata": {},
   "outputs": [],
   "source": [
    "def find_NN(x):\n",
    "    dists = [squared_distance(x, train_data[i,]) for i in range(train_data.shape[0])]\n",
    "    # Get the index of the smallest distance\n",
    "    return np.argmin(dists)\n",
    "\n",
    "def classify_NN(x):\n",
    "    idx = find_NN(x)\n",
    "    return train_data[idx,]"
   ]
  },
  {
   "cell_type": "markdown",
   "metadata": {},
   "source": [
    "### Test"
   ]
  },
  {
   "cell_type": "code",
   "execution_count": 25,
   "metadata": {},
   "outputs": [
    {
     "data": {
      "image/png": "[encoded data removed]",
      "text/plain": [
       "<Figure size 432x288 with 1 Axes>"
      ]
     },
     "metadata": {
      "needs_background": "light"
     },
     "output_type": "display_data"
    }
   ],
   "source": [
    "plot_img(test_data[0])"
   ]
  },
  {
   "cell_type": "code",
   "execution_count": 27,
   "metadata": {},
   "outputs": [
    {
     "name": "stdout",
     "output_type": "stream",
     "text": [
      "Its nearest neighbor from the train_data\n"
     ]
    },
    {
     "data": {
      "image/png": "[encoded data removed]",
      "text/plain": [
       "<Figure size 432x288 with 1 Axes>"
      ]
     },
     "metadata": {
      "needs_background": "light"
     },
     "output_type": "display_data"
    }
   ],
   "source": [
    "plot_img(test_data[0])\n",
    "pred = classify_NN(test_data[0])\n",
    "print(\"Its nearest neighbor from the train_data\")\n",
    "plot_img(pred)"
   ]
  },
  {
   "cell_type": "markdown",
   "metadata": {},
   "source": [
    "### Fast Approach: Kd-Tree Complexity O(nlogn)\n",
    "We will use scikit-learn implementation of this nearest neighbor data structure. The tree is constructed based on the median location. There are many possible ways to choose axis-aligned splitting planes, so we select axis based on depth so that axis cycles through all valid values: axis = depth % d (d is the dimension of the points, here 28*28).<br>\n",
    "(wikipedia: https://en.wikipedia.org/wiki/K-d_tree )"
   ]
  },
  {
   "cell_type": "code",
   "execution_count": 28,
   "metadata": {},
   "outputs": [],
   "source": [
    "from sklearn.neighbors import KDTree"
   ]
  },
  {
   "cell_type": "code",
   "execution_count": 30,
   "metadata": {},
   "outputs": [],
   "source": [
    "t0 = time.time()\n",
    "kd_tree = KDTree(train_data)\n",
    "t = time.time()"
   ]
  },
  {
   "cell_type": "code",
   "execution_count": 32,
   "metadata": {},
   "outputs": [
    {
     "name": "stdout",
     "output_type": "stream",
     "text": [
      "Time needed to construct the tree in seconds 1.0313663482666016\n"
     ]
    }
   ],
   "source": [
    "print(\"Time needed to construct the tree in seconds\", t - t0)"
   ]
  },
  {
   "cell_type": "code",
   "execution_count": 35,
   "metadata": {},
   "outputs": [],
   "source": [
    "predictions = kd_tree.query(test_data, k=1, return_distance=False)\n",
    "predictions = np.squeeze(predictions)"
   ]
  },
  {
   "cell_type": "code",
   "execution_count": 36,
   "metadata": {},
   "outputs": [
    {
     "data": {
      "text/plain": [
       "array([6696, 1363, 4002, 7495, 6368, 5858, 5881, 3730, 5750, 4911, 2145,\n",
       "       5479, 2838, 1218, 7202, 4791, 6906,  348, 6657, 5533, 6843, 5305,\n",
       "       2779,  894, 3702, 3939,  762, 3604, 4742, 5868, 5459,  357, 6733,\n",
       "       6914, 3632, 5463, 6265, 1468, 4293, 4455, 2448, 5553, 3974, 4405,\n",
       "       7384, 3374, 3941, 2014, 5146, 6492, 3148, 5340, 3811, 3931, 3123,\n",
       "       3469, 6264,  359, 1823, 7069, 4108, 3753, 3460, 2403, 4453, 1399,\n",
       "       2841, 2036, 4099, 2458,  464, 5850, 2186, 2720, 2206, 4664, 3689,\n",
       "       1087, 5160, 4558, 4998, 7454, 5675, 3108, 2514, 5540, 7444, 4392,\n",
       "       6225, 2154, 4588,  453, 1221, 2913, 4325,   72, 2186, 4742, 1384,\n",
       "       1844, 4711,  532, 6190, 1030, 6566, 3068, 6503, 5139, 3389, 4333,\n",
       "       3415, 6830,  928, 6788, 3666,  968, 2236, 3844, 6687, 4820, 2858,\n",
       "        206, 1712,  964, 4974, 2519, 1363, 3635, 3842, 7487, 7141, 5524,\n",
       "       6183,  566, 2734,  824, 1503, 5027, 2231, 5708, 4343, 4241, 4480,\n",
       "       3939, 3507,  384, 4837, 6432, 6443, 5502, 4291, 6155, 2827, 1982,\n",
       "       1123, 5743, 1287, 6498, 6988, 6988, 4849, 4087, 3811, 2523, 1579,\n",
       "         88, 3274, 6041,  785, 6000, 5911, 5881, 1809, 5232, 5867, 1403,\n",
       "       5878,  441, 1896, 7393, 5902, 2935, 1871, 6624, 3047, 5186,  426,\n",
       "       7469, 1485, 7090, 4736, 7453, 3717, 6479, 2490, 1254, 7229, 4074,\n",
       "       3349,  453, 4297, 2629, 4104, 5891, 6937, 4502,  148, 6253, 2960,\n",
       "        807, 1572, 2959, 6386, 4830, 7229, 7283, 1131, 2615, 6264,   51,\n",
       "       1217, 1503, 6612, 6023, 6451, 6421, 3847, 6081, 1506,  353, 6376,\n",
       "       5178, 1950, 3159, 7492, 6204, 4568, 5361, 4825, 6491, 3973, 3973,\n",
       "       3176, 2783, 1198, 4024, 7453,  680, 1830, 5107, 2508, 1672, 3073,\n",
       "       3886, 7031, 1869, 5359,  837, 7143, 5509,  440, 6427, 2197,  798,\n",
       "       5771, 4006, 6843, 6162, 7108, 5149, 3954, 5511,  568, 4034, 4064,\n",
       "       4333, 3042, 6937, 4823, 6611, 7469, 4867, 6468,  922,  532,  787,\n",
       "        356, 2034, 4761, 4442, 4256, 1485,  396, 3147, 6506, 3976, 2882,\n",
       "       2685, 1675, 4171,   79, 3952, 2676, 2997, 5980, 4265, 4931,  475,\n",
       "       7137, 1918, 3883, 1424, 1230,   25, 3571, 6230, 2132,  585,  469,\n",
       "       7452, 5629, 3051, 4576, 1165, 3674,  199, 4402,  271, 3167, 4353,\n",
       "       1665, 1769, 2731, 3664, 2448, 5353, 2878, 5450, 6122,  410, 4942,\n",
       "       1389, 3167, 2565, 1483, 7064, 3492,   41,  148, 3298, 5584, 1187,\n",
       "        703, 5693, 4589, 4571, 3546, 5351, 5777,  600, 2236,  298, 2896,\n",
       "       5446, 1339, 6447, 2672, 3588, 7465, 1121, 3555, 4702, 2539, 2271,\n",
       "       3879,  723, 5330, 4246, 2637, 5980, 7383, 3814, 7355, 3580, 3277,\n",
       "       1815, 1798, 6037, 3886, 2393, 3071, 5301,  863, 2077, 3333, 3472,\n",
       "       5881, 1691, 3567, 6462,  274, 1904, 2186, 5775, 2231, 3231, 7110,\n",
       "       7401,  492, 3377, 5671, 1156, 2279,  583, 1233,  526,  884, 5540,\n",
       "       1551,  378, 1198, 1196, 6379,  147, 7089, 2886, 3167, 7142, 1308,\n",
       "       5128, 3497, 6361, 2547, 7283, 1894, 3204, 4695, 5358, 1200, 4008,\n",
       "       5357,  592, 5189, 1391,   56, 6148, 2335, 3055, 1138, 7371,  669,\n",
       "       3260,  920, 2320,  536, 3006, 6187, 4552, 4404, 6608, 3555,  557,\n",
       "       1842, 5901, 5292,  851, 5386,  841, 5368, 6322,  123, 2831, 5436,\n",
       "        604, 6757, 4167, 3813, 5766, 4187, 2715, 2897, 4363, 1387, 2351,\n",
       "       6617, 2279, 7373, 4860, 2229, 4849, 7480, 1284, 5817, 2224, 3727,\n",
       "       1783, 2303, 4733, 5365, 6005, 3076, 4395, 5464, 3362, 5116, 6406,\n",
       "       2662, 1352, 2971,  454, 5794, 4821, 1997, 2579, 2048, 4119, 3469,\n",
       "       5909, 3095, 6218, 1249, 1546, 6158, 4056, 3316, 5365, 4153, 3581,\n",
       "       3389, 5963,  358, 6785, 4311, 5862, 6941, 1362, 2544,  640, 1090,\n",
       "       4125, 6577, 3424, 5386, 1153, 3756, 3549, 2514, 5384, 1474, 1022,\n",
       "       4286,  575, 5146, 5585,   19, 3889, 7095, 5831,  583,   23, 2994,\n",
       "       3093, 3580, 4311, 6877,  233, 6321,   75, 3925, 2155, 7132, 4479,\n",
       "       1123, 5375, 6533, 4150, 3808, 1019,  173, 5317, 4904, 4319, 3627,\n",
       "       5535, 2458, 1691, 5578,  170, 3798, 2129, 2113, 2793, 4250, 2626,\n",
       "       2224, 5404, 1762, 6826,   87, 1493, 1550, 2626, 6875, 4419, 1865,\n",
       "       6406,  292, 6040, 1621, 6048, 6356,   58,  339, 5884, 1281, 3320,\n",
       "       1479, 5316, 3741,  587,  427, 4702, 6590, 5720,  566, 5622, 3547,\n",
       "       5708, 5178, 2696, 7246, 3468, 4639,  112, 5494,  570, 3420, 1208,\n",
       "       1694, 1674,  664, 1549, 6083, 1254, 3781,  581, 2824, 3299, 4247,\n",
       "       4331,  823, 2482,  834, 4533, 4908, 1884, 1334,  760, 4989, 7395,\n",
       "       2868, 4930, 5533, 1513, 4735, 4351, 4481, 6396, 4314, 2305, 2984,\n",
       "       6848, 4499,  630, 6790, 2409, 3252,   19, 6272, 2062, 6429, 1610,\n",
       "        880,  120, 6223,  839, 6807, 4402, 3263, 3448, 2852, 1022, 4791,\n",
       "       5944, 4134, 4350, 7402,  657,  899, 1986,  396, 3153, 1035, 3413,\n",
       "       5511, 3566, 1478, 3819,  937, 5714,    7, 6086, 4491, 1043, 7273,\n",
       "        976, 7368, 4332,  864, 6704, 7453, 6096, 1352, 3234, 3883, 5232,\n",
       "       7356, 5053, 5776, 1733, 2707, 3573, 3894, 3186, 2714, 1712, 5569,\n",
       "       2236, 3474, 5507, 1914, 3767, 2943, 1860, 3370, 5444, 2117, 5601,\n",
       "       5369, 4437, 1022, 3263, 1904,  966, 5030, 3387,  613, 5138, 2970,\n",
       "        962, 2490, 3064,  129, 2660, 1218,  341, 1505, 2669,   75, 3118,\n",
       "       6959, 3806,  258, 6162, 4615, 2540, 2770,  774, 7313, 7357, 6961,\n",
       "        159, 1943, 3887, 3776,  600,  613, 1081, 1667,   43, 2527, 3935,\n",
       "       1668, 1182, 4108,  368,  790, 6172, 4504, 3167, 2712, 4830, 3106,\n",
       "       5292, 4110, 3606, 6782, 6473, 6469, 5525, 6026, 6470, 7053, 1855,\n",
       "       6155, 2492, 4730, 3227, 1667, 6886, 1000, 2355, 3318, 6701, 5046,\n",
       "       1893, 4325, 4373, 5818, 6423, 1379, 4683, 1223, 1718, 3166, 5436,\n",
       "       4450, 4715,  846, 2799, 2314, 5447, 1607, 2465, 5123, 2072, 1667,\n",
       "        515, 5843, 2171, 7487, 7482, 3686, 5392,  445, 1209, 6328, 2837,\n",
       "       2890,  289,  455,  660, 5528, 2340, 4998, 3756, 4714, 5867, 5977,\n",
       "       1817, 3661, 1592, 4046, 1426, 7046, 3868, 5292, 4574, 1638, 5604,\n",
       "       1233, 1378, 1909, 5087, 5307, 5102,  147, 5909,  360, 5332, 5867,\n",
       "       2750, 5986, 4222, 5777, 4596, 6289, 7474, 3371, 6158, 6782, 7412,\n",
       "       5124, 5575, 6467, 3618, 1473, 6407, 4874, 6541, 2428, 4803, 5289,\n",
       "       6056, 5790, 6697, 3891, 7204,  670, 2022, 2229, 1814, 5839, 5560,\n",
       "       7020, 4386, 2894, 4162, 7173, 5290, 6268,  321, 6981, 4368, 2203,\n",
       "       4948, 7260, 3676, 1168, 3842,  542, 6013, 1546, 3280,  849, 2384,\n",
       "       5607, 5716, 4797, 5349, 1776,  790, 4361, 6298, 1729,  402, 4585,\n",
       "       6411, 2853, 1796,  761, 1183, 2631, 1789,  104, 3216,  326, 6422,\n",
       "       7193, 7121,   84, 6483, 3160, 2370, 3004, 5079, 4881, 6787,  203,\n",
       "       6782, 3758, 2735, 7190, 1287,  421, 1665, 3801, 1528, 2971,  757,\n",
       "       6968, 6077, 2602, 7071,  306, 5099, 5478, 4770, 2157,  276],\n",
       "      dtype=int64)"
      ]
     },
     "execution_count": 36,
     "metadata": {},
     "output_type": "execute_result"
    }
   ],
   "source": [
    "predictions #indexes"
   ]
  },
  {
   "cell_type": "code",
   "execution_count": 37,
   "metadata": {},
   "outputs": [],
   "source": [
    "results = train_data[predictions]"
   ]
  }
 ],
 "metadata": {
  "kernelspec": {
   "display_name": "Python 3",
   "language": "python",
   "name": "python3"
  },
  "language_info": {
   "codemirror_mode": {
    "name": "ipython",
    "version": 3
   },
   "file_extension": ".py",
   "mimetype": "text/x-python",
   "name": "python",
   "nbconvert_exporter": "python",
   "pygments_lexer": "ipython3",
   "version": "3.7.1"
  }
 },
 "nbformat": 4,
 "nbformat_minor": 2
}
