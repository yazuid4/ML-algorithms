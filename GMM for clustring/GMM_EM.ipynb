{
 "cells": [
  {
   "cell_type": "markdown",
   "metadata": {},
   "source": [
    "### Clustring with Gaussian Mixtures Model: EM Algorithm"
   ]
  },
  {
   "cell_type": "code",
   "execution_count": 1,
   "metadata": {},
   "outputs": [],
   "source": [
    "import numpy as np\n",
    "from scipy.stats import multivariate_normal"
   ]
  },
  {
   "cell_type": "code",
   "execution_count": 2,
   "metadata": {},
   "outputs": [],
   "source": [
    "#Log likelihood: used for EM steps evalutions\n",
    "#pi: clusters weights\n",
    "#mu: means\n",
    "#sigma: covariace matrices\n",
    "#k: number of clusters\n",
    "def log_sum_exp(Z):\n",
    "    \"\"\" Compute log(\\sum_i exp(Z_i)) for some array Z.\"\"\"\n",
    "    return np.max(Z) + np.log(np.sum(np.exp(Z - np.max(Z))))\n",
    "\n",
    "def loglikelihood(data, weights, means, covs):\n",
    "    \"\"\" Compute the loglikelihood of the data for a Gaussian mixture model with the given parameters.\"\"\"\n",
    "    num_clusters = len(means)\n",
    "    num_dim = len(data[0])\n",
    "    \n",
    "    ll = 0\n",
    "    for d in data:\n",
    "        \n",
    "        Z = np.zeros(num_clusters)\n",
    "        for k in range(num_clusters):\n",
    "            # Compute (x-mu)^T * Sigma^{-1} * (x-mu)\n",
    "            delta = np.array(d) - means[k]\n",
    "            exponent_term = np.dot(delta.T, np.dot(np.linalg.inv(covs[k]), delta))\n",
    "            # Compute loglikelihood contribution for this data point and this cluster\n",
    "            Z[k] += np.log(weights[k])\n",
    "            Z[k] -= 1/2. * (num_dim * np.log(2*np.pi) + np.log(np.linalg.det(covs[k])) + exponent_term)\n",
    "            \n",
    "        # Increment loglikelihood contribution of this data point across all clusters\n",
    "        ll += log_sum_exp(Z)\n",
    "        \n",
    "    return ll "
   ]
  },
  {
   "cell_type": "code",
   "execution_count": 3,
   "metadata": {},
   "outputs": [],
   "source": [
    "def compute_responsabilities(data, pi, mu, sigma):\n",
    "    num_clusters = len(mu)\n",
    "    d = len(data)\n",
    "    r = np.zeros((d,num_clusters))\n",
    "    \n",
    "    for i in range(d):    \n",
    "        temp = 0\n",
    "        for k in range(num_clusters):\n",
    "            temp += pi[k] * multivariate_normal.pdf(data[i], mu[k], sigma[k])\n",
    "        \n",
    "        for k in range(num_clusters):\n",
    "            r[i,k] = (pi[k] * multivariate_normal.pdf(data[i],mu[k],sigma[k]))/temp\n",
    "        \n",
    "    return r"
   ]
  },
  {
   "cell_type": "code",
   "execution_count": 4,
   "metadata": {},
   "outputs": [],
   "source": [
    "#The sum of all responsibilities for each cluster:\n",
    "def count_sum_responsability_weight(resp):\n",
    "    return np.sum(resp, axis=0)"
   ]
  },
  {
   "cell_type": "code",
   "execution_count": 5,
   "metadata": {},
   "outputs": [],
   "source": [
    "#The weight of the clusters:\n",
    "#K: number of clusters\n",
    "def pi_updates(counts):\n",
    "    num_data = np.sum(counts)\n",
    "    K = len(counts)\n",
    "    pi = np.zeros(K)\n",
    "    for k in range(K):\n",
    "        pi[k] = counts[k]/num_data\n",
    "    return pi"
   ]
  },
  {
   "cell_type": "code",
   "execution_count": 6,
   "metadata": {},
   "outputs": [],
   "source": [
    "#Means updates:\n",
    "def mu_updates(data, resp, counts):\n",
    "    K = len(counts)\n",
    "    d = (data.shape)[1]\n",
    "    l = (data.shape)[0]\n",
    "    mu_new = np.zeros((K,d))\n",
    "    \n",
    "    for k in range(K):\n",
    "        temp = 0\n",
    "        for i in range(l):\n",
    "            temp += resp[i,k]*data[i]\n",
    "        mu_new[k] = temp/counts[k]\n",
    "    \n",
    "    return mu_new"
   ]
  },
  {
   "cell_type": "code",
   "execution_count": 7,
   "metadata": {},
   "outputs": [],
   "source": [
    "#Covariance Matrix updates:\n",
    "def sigma_updates(data, mu, resp, counts):\n",
    "    K = len(counts)\n",
    "    d = (data.shape)[1]\n",
    "    l = (data.shape)[0]\n",
    "    sigma_new = np.zeros((K,d,d))\n",
    "    \n",
    "    for k in range(K):\n",
    "        temp = np.zeros((d,d))\n",
    "        for i in range(l):\n",
    "            u = data[i] - mu[k]\n",
    "            temp += resp[i,k]*(np.outer(u,u))\n",
    "        sigma_new[k] = temp/counts[k]\n",
    "    \n",
    "    return sigma_new"
   ]
  },
  {
   "cell_type": "code",
   "execution_count": 8,
   "metadata": {},
   "outputs": [],
   "source": [
    "def EM_Mixtures_Gaussian(data, init_pi, init_mu, init_sigma, maxiter=100, thresh=1e-4):\n",
    "    \n",
    "    pi = init_pi[:]\n",
    "    mu = init_mu[:]\n",
    "    sigma = init_sigma[:]\n",
    "    \n",
    "    loglik = loglikelihood(data, pi, mu, sigma)\n",
    "    loglik_list = [loglikelihood]\n",
    "    \n",
    "    for itr in range(maxiter):\n",
    "    \n",
    "        #E-step: compute responsibilities\n",
    "        resp = compute_responsabilities(data, pi, mu, sigma)\n",
    "    \n",
    "        #M-step\n",
    "        #Compute the total responsibility for each cluster\n",
    "        counts = count_sum_responsability_weight(resp)\n",
    "        #Update the weight for cluster k \n",
    "        pi = pi_updates(counts)\n",
    "        #Update means\n",
    "        mu = mu_updates(data, resp, counts)\n",
    "        #Update covariances\n",
    "        sigma = sigma_updates(data, mu, resp, counts)\n",
    "        # The loglikelihood\n",
    "        curr_loglik = loglikelihood(data, pi, mu, sigma)\n",
    "        loglik_list.append(curr_loglik)\n",
    "        \n",
    "        if(curr_loglik - loglik < thresh):\n",
    "            break\n",
    "        \n",
    "        loglik = curr_loglik\n",
    "        \n",
    "        #if(itr%5 == 0):\n",
    "        print(\"Iteration {}, the loglikelihood: {}\".format(itr, loglik))\n",
    "    \n",
    "    results = {'weights': pi, \"means\": mu, \"covs\": sigma, \"resp\": resp, \"loglikelihood_trace\": loglik_list}\n",
    "    return results"
   ]
  },
  {
   "cell_type": "markdown",
   "metadata": {},
   "source": [
    "### Test the model with isotropic Gaussian blobs:"
   ]
  },
  {
   "cell_type": "code",
   "execution_count": 9,
   "metadata": {},
   "outputs": [],
   "source": [
    "from sklearn.datasets.samples_generator import make_blobs"
   ]
  },
  {
   "cell_type": "code",
   "execution_count": 13,
   "metadata": {},
   "outputs": [],
   "source": [
    "# Generate sample data\n",
    "means = [[1, 1], [-1, -1], [1, -1]]\n",
    "X, labels_true = make_blobs(n_samples=750, centers=means, cluster_std=0.4,\n",
    "                            random_state=0)"
   ]
  },
  {
   "cell_type": "code",
   "execution_count": 14,
   "metadata": {},
   "outputs": [],
   "source": [
    "test_data = X"
   ]
  },
  {
   "cell_type": "code",
   "execution_count": 15,
   "metadata": {},
   "outputs": [],
   "source": [
    "means = np.array(means)"
   ]
  },
  {
   "cell_type": "code",
   "execution_count": 16,
   "metadata": {},
   "outputs": [],
   "source": [
    "#init\n",
    "init_weights = [1/3, 1/3, 1/3]\n",
    "cov = np.diag([test_data[:,0].var(), test_data[:,1].var()])\n",
    "init_covs = [cov, cov, cov]"
   ]
  },
  {
   "cell_type": "code",
   "execution_count": null,
   "metadata": {},
   "outputs": [],
   "source": []
  },
  {
   "cell_type": "code",
   "execution_count": 18,
   "metadata": {},
   "outputs": [
    {
     "data": {
      "image/png": "[encoded data removed]",
      "text/plain": [
       "<Figure size 432x288 with 1 Axes>"
      ]
     },
     "metadata": {
      "needs_background": "light"
     },
     "output_type": "display_data"
    }
   ],
   "source": [
    "#### plot data point:\n",
    "import matplotlib.pyplot as plt\n",
    "%matplotlib inline\n",
    "\n",
    "plt.figure()\n",
    "for i in range(len(X)):\n",
    "    plt.plot(X[i,0], X[i,1], 'o', c='black')\n",
    "plt.rcParams.update({'font.size':16})\n",
    "plt.tight_layout()"
   ]
  },
  {
   "cell_type": "code",
   "execution_count": 20,
   "metadata": {},
   "outputs": [],
   "source": [
    "#Helper:\n",
    "import colorsys\n",
    "\n",
    "def plot_responsibilities_in_RB(img, resp, title):\n",
    "    N, K = resp.shape\n",
    "    \n",
    "    HSV_tuples = [(x*1.0/K, 0.5, 0.9) for x in range(K)]\n",
    "    \n",
    "    RGB_tuples = []\n",
    "    for x in HSV_tuples:\n",
    "        RGB_tuples.append(colorsys.hsv_to_rgb(*x))\n",
    "\n",
    "    R = img[:,0]\n",
    "    B = img[:,1]\n",
    "    resp_by_img_int = [[resp[n][k] for k in range(K)] for n in range(N)]\n",
    "    cols = [tuple(np.dot(resp_by_img_int[n], np.array(RGB_tuples))) for n in range(N)]\n",
    "    \n",
    "    plt.figure()\n",
    "    for n in range(len(R)):\n",
    "        plt.plot(R[n], B[n], 'o', c=cols[n])\n",
    "    plt.title(title)\n",
    "    plt.xlabel('R value')\n",
    "    plt.ylabel('B value')\n",
    "    plt.rcParams.update({'font.size':16})\n",
    "    plt.tight_layout()"
   ]
  },
  {
   "cell_type": "code",
   "execution_count": 21,
   "metadata": {},
   "outputs": [
    {
     "name": "stdout",
     "output_type": "stream",
     "text": [
      "Iteration 0, the loglikelihood: -1830.740125483854\n",
      "Iteration 1, the loglikelihood: -1685.422063577508\n",
      "Iteration 2, the loglikelihood: -1550.9734527236178\n",
      "Iteration 3, the loglikelihood: -1528.07149513364\n",
      "Iteration 4, the loglikelihood: -1527.4969521384774\n"
     ]
    },
    {
     "data": {
      "image/png": "[encoded data removed]",
      "text/plain": [
       "<Figure size 432x288 with 1 Axes>"
      ]
     },
     "metadata": {
      "needs_background": "light"
     },
     "output_type": "display_data"
    }
   ],
   "source": [
    "#plot after learning responsabilities:\n",
    "test_results = EM_Mixtures_Gaussian(test_data, init_weights, means, init_covs, maxiter=5, thresh=1e-4)\n",
    "plot_responsibilities_in_RB(test_data, test_results['resp'], 'After 2 iteration')"
   ]
  },
  {
   "cell_type": "markdown",
   "metadata": {},
   "source": [
    "### Test: Images data"
   ]
  },
  {
   "cell_type": "code",
   "execution_count": 22,
   "metadata": {},
   "outputs": [],
   "source": [
    "from PIL import Image\n",
    "import os\n",
    "root = './images/'\n",
    "list_folders = ['cloudy_sky', 'rivers', 'sunsets', 'trees_and_forest']\n",
    "folders_sizes = []\n",
    "data = []\n",
    "\n",
    "read = lambda imname: np.asarray(Image.open(imname).convert(\"RGB\"))\n",
    "\n",
    "for folder_name in list_folders:\n",
    "    name = root + folder_name\n",
    "    ims = [read(os.path.join(name, filename)) for filename in os.listdir(name)]\n",
    "    #im_array = np.array(ims)\n",
    "    folders_sizes.append(len(ims))\n",
    "    data = data + ims\n",
    "\n",
    "data = np.array(data)"
   ]
  },
  {
   "cell_type": "code",
   "execution_count": 23,
   "metadata": {},
   "outputs": [],
   "source": [
    "#We will represente image with a 3-dimensional vector [r, g, b] where r: is the average value of red pixels...\n",
    "img_data = []\n",
    "\n",
    "for i in range(len(data)):\n",
    "    arr = data[i]\n",
    "    r = np.mean(arr[:,:,0]/256.0)\n",
    "    g = np.mean(arr[:,:,1]/256.0)\n",
    "    b = np.mean(arr[:,:,2]/256.0)\n",
    "    x  = [r, g, b]\n",
    "    img_data.append(x)\n",
    "\n",
    "img_data = np.array(img_data)"
   ]
  },
  {
   "cell_type": "code",
   "execution_count": 24,
   "metadata": {},
   "outputs": [
    {
     "data": {
      "text/plain": [
       "(3,)"
      ]
     },
     "execution_count": 24,
     "metadata": {},
     "output_type": "execute_result"
    }
   ],
   "source": [
    "img_data[0].shape"
   ]
  },
  {
   "cell_type": "markdown",
   "metadata": {},
   "source": [
    "### Initialization:"
   ]
  },
  {
   "cell_type": "code",
   "execution_count": 25,
   "metadata": {},
   "outputs": [],
   "source": [
    "np.random.seed(0)\n",
    "\n",
    "k = 4\n",
    "init_pi = [1/4, 1/4, 1/4, 1/4]\n",
    "init_mu = [img_data[e]  for e in np.random.choice(len(img_data), k, replace=False)]"
   ]
  },
  {
   "cell_type": "code",
   "execution_count": 26,
   "metadata": {},
   "outputs": [],
   "source": [
    "covariance_matrix = np.diag([img_data[:,0].var(), img_data[:,1].var(), img_data[:,2].var()])\n",
    "init_sigma = [covariance_matrix, covariance_matrix, covariance_matrix, covariance_matrix]"
   ]
  },
  {
   "cell_type": "code",
   "execution_count": 27,
   "metadata": {},
   "outputs": [
    {
     "name": "stdout",
     "output_type": "stream",
     "text": [
      "Iteration 0, the loglikelihood: 3132.0692172145878\n",
      "Iteration 1, the loglikelihood: 3243.706162729131\n"
     ]
    }
   ],
   "source": [
    "#Run our EM algorithm on the image data using the above initializations.\n",
    "results = EM_Mixtures_Gaussian(img_data, init_pi, init_mu, init_sigma, maxiter=2, thresh=1e-4)"
   ]
  },
  {
   "cell_type": "code",
   "execution_count": 28,
   "metadata": {},
   "outputs": [
    {
     "data": {
      "text/plain": [
       "{'weights': array([0.30901748, 0.17967642, 0.31775611, 0.19354999]),\n",
       " 'means': array([[0.47522951, 0.38101166, 0.29972793],\n",
       "        [0.31566248, 0.31429741, 0.27283547],\n",
       "        [0.38800745, 0.42271918, 0.39795799],\n",
       "        [0.53881329, 0.59265048, 0.62812295]]),\n",
       " 'covs': array([[[ 0.01491795,  0.00141864, -0.00298677],\n",
       "         [ 0.00141864,  0.01225999,  0.00999492],\n",
       "         [-0.00298677,  0.00999492,  0.02165877]],\n",
       " \n",
       "        [[ 0.00733103,  0.00334458,  0.00344877],\n",
       "         [ 0.00334458,  0.00850909,  0.00643013],\n",
       "         [ 0.00344877,  0.00643013,  0.01329565]],\n",
       " \n",
       "        [[ 0.00642993,  0.00384777,  0.00305563],\n",
       "         [ 0.00384777,  0.00656824,  0.00620645],\n",
       "         [ 0.00305563,  0.00620645,  0.01602886]],\n",
       " \n",
       "        [[ 0.01105324,  0.00676084,  0.00334729],\n",
       "         [ 0.00676084,  0.00923827,  0.01012121],\n",
       "         [ 0.00334729,  0.01012121,  0.01869176]]]),\n",
       " 'resp': array([[1.15806350e-01, 7.21802113e-03, 2.21478632e-01, 6.55496997e-01],\n",
       "        [1.86737341e-02, 1.66912121e-03, 1.42335693e-01, 8.37321452e-01],\n",
       "        [9.62827400e-02, 3.10620155e-02, 5.99796214e-01, 2.72859030e-01],\n",
       "        ...,\n",
       "        [2.37075199e-01, 1.88117480e-01, 5.55219772e-01, 1.95875490e-02],\n",
       "        [2.18964708e-01, 4.01560082e-01, 3.79230565e-01, 2.44645546e-04],\n",
       "        [3.48258862e-01, 8.13354572e-02, 5.15637856e-01, 5.47678244e-02]]),\n",
       " 'loglikelihood_trace': [<function __main__.loglikelihood(data, weights, means, covs)>,\n",
       "  3132.0692172145878,\n",
       "  3243.706162729131]}"
      ]
     },
     "execution_count": 28,
     "metadata": {},
     "output_type": "execute_result"
    }
   ],
   "source": [
    "results"
   ]
  },
  {
   "cell_type": "code",
   "execution_count": 31,
   "metadata": {},
   "outputs": [
    {
     "data": {
      "image/png": "[encoded data removed]",
      "text/plain": [
       "<Figure size 432x288 with 1 Axes>"
      ]
     },
     "metadata": {
      "needs_background": "light"
     },
     "output_type": "display_data"
    }
   ],
   "source": [
    "plot_responsibilities_in_RB(img_data, results['resp'], 'After 2 iterations')"
   ]
  },
  {
   "cell_type": "code",
   "execution_count": null,
   "metadata": {},
   "outputs": [],
   "source": []
  }
 ],
 "metadata": {
  "kernelspec": {
   "display_name": "Python 3",
   "language": "python",
   "name": "python3"
  },
  "language_info": {
   "codemirror_mode": {
    "name": "ipython",
    "version": 3
   },
   "file_extension": ".py",
   "mimetype": "text/x-python",
   "name": "python",
   "nbconvert_exporter": "python",
   "pygments_lexer": "ipython3",
   "version": "3.7.1"
  }
 },
 "nbformat": 4,
 "nbformat_minor": 2
}
