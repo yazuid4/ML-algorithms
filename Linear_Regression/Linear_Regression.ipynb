{
 "cells": [
  {
   "cell_type": "markdown",
   "metadata": {},
   "source": [
    "### Least Squares Regression:\n",
    "- Given data: $(x^{(1)},y^{(1)})$, $(x^{(2)},y^{(2)})$, ... ,$(x^{(n)},y^{(n)})$ $\\in$ $R^d\\times R$\n",
    "\n",
    "- Consider y the linear function that fit to data: $\\ y = w \\cdot x + b \\qquad w\\in R^d, \\ b\\in R$\n",
    "\n",
    "- The objective function to minimize:\n",
    "\n",
    "$$\n",
    "L(w,b) = \\sum_{i=1}^n (y^{(i)} - (w\\cdot x^{(i)} + b))^2 \\iff L(w') =  \\sum_{i=1}^n (y^{(i)} - w'\\cdot x'^{(i)} )^2, \\ w'=(\n",
    "b,w),\\ x'^{(i)}=(1,x^{(i)})\\in R^{d+1}\n",
    "$$\n",
    "\n",
    "- Can be written as matrix vector product:\n",
    "$$\n",
    "L(w') =  \\|y - X'\\cdot w' \\|^2, \\ X' \\in R^{n \\times (d+1)}, w' \\in R^{(d+1) \\times 1}   \n",
    "$$\n",
    "\n",
    "- The loss function is minimized at:\n",
    "\n",
    "$$\n",
    "w'= (X'^{T}X')^{-1}X'^{T}y\n",
    "$$"
   ]
  },
  {
   "cell_type": "markdown",
   "metadata": {},
   "source": [
    "We can achive better estimations using Regression with Regularization effect (Ridge Regression) or Lasso which is also an example of estimators that uses the $l_1$ norm $\\|.\\|_1$  and gives a sparse w.\n",
    "\n",
    "$$\n",
    "L(w,b) = \\sum_{i=1}^n (y^{(i)} - (w\\cdot x^{(i)} + b))^2 + \\lambda \\|w\\|_2^2 \\quad (or \\  \\lambda \\|w\\|_1 \\  in \\  Lasso \\ estimator \\ case).\n",
    "$$\n"
   ]
  },
  {
   "cell_type": "markdown",
   "metadata": {},
   "source": [
    "### Diabete study with multi-variables linear regression"
   ]
  },
  {
   "cell_type": "code",
   "execution_count": 1,
   "metadata": {},
   "outputs": [],
   "source": [
    "import pandas as pd\n",
    "import numpy as np\n",
    "import matplotlib.pyplot as plt\n",
    "%matplotlib inline\n",
    "\n",
    "from sklearn import linear_model\n",
    "from sklearn.metrics import mean_squared_error\n",
    "from sklearn.model_selection import train_test_split"
   ]
  },
  {
   "cell_type": "code",
   "execution_count": 2,
   "metadata": {},
   "outputs": [],
   "source": [
    "data = pd.read_csv('./diabetes-data.csv')"
   ]
  },
  {
   "cell_type": "code",
   "execution_count": 3,
   "metadata": {},
   "outputs": [
    {
     "data": {
      "text/html": [
       "<div>\n",
       "<style scoped>\n",
       "    .dataframe tbody tr th:only-of-type {\n",
       "        vertical-align: middle;\n",
       "    }\n",
       "\n",
       "    .dataframe tbody tr th {\n",
       "        vertical-align: top;\n",
       "    }\n",
       "\n",
       "    .dataframe thead th {\n",
       "        text-align: right;\n",
       "    }\n",
       "</style>\n",
       "<table border=\"1\" class=\"dataframe\">\n",
       "  <thead>\n",
       "    <tr style=\"text-align: right;\">\n",
       "      <th></th>\n",
       "      <th>59</th>\n",
       "      <th>2</th>\n",
       "      <th>32.1</th>\n",
       "      <th>101</th>\n",
       "      <th>157</th>\n",
       "      <th>93.2</th>\n",
       "      <th>38</th>\n",
       "      <th>4</th>\n",
       "      <th>4.8598</th>\n",
       "      <th>87</th>\n",
       "      <th>151</th>\n",
       "    </tr>\n",
       "  </thead>\n",
       "  <tbody>\n",
       "    <tr>\n",
       "      <th>0</th>\n",
       "      <td>48</td>\n",
       "      <td>1</td>\n",
       "      <td>21.6</td>\n",
       "      <td>87.0</td>\n",
       "      <td>183</td>\n",
       "      <td>103.2</td>\n",
       "      <td>70.0</td>\n",
       "      <td>3.0</td>\n",
       "      <td>3.8918</td>\n",
       "      <td>69</td>\n",
       "      <td>75</td>\n",
       "    </tr>\n",
       "    <tr>\n",
       "      <th>1</th>\n",
       "      <td>72</td>\n",
       "      <td>2</td>\n",
       "      <td>30.5</td>\n",
       "      <td>93.0</td>\n",
       "      <td>156</td>\n",
       "      <td>93.6</td>\n",
       "      <td>41.0</td>\n",
       "      <td>4.0</td>\n",
       "      <td>4.6728</td>\n",
       "      <td>85</td>\n",
       "      <td>141</td>\n",
       "    </tr>\n",
       "    <tr>\n",
       "      <th>2</th>\n",
       "      <td>24</td>\n",
       "      <td>1</td>\n",
       "      <td>25.3</td>\n",
       "      <td>84.0</td>\n",
       "      <td>198</td>\n",
       "      <td>131.4</td>\n",
       "      <td>40.0</td>\n",
       "      <td>5.0</td>\n",
       "      <td>4.8903</td>\n",
       "      <td>89</td>\n",
       "      <td>206</td>\n",
       "    </tr>\n",
       "    <tr>\n",
       "      <th>3</th>\n",
       "      <td>50</td>\n",
       "      <td>1</td>\n",
       "      <td>23.0</td>\n",
       "      <td>101.0</td>\n",
       "      <td>192</td>\n",
       "      <td>125.4</td>\n",
       "      <td>52.0</td>\n",
       "      <td>4.0</td>\n",
       "      <td>4.2905</td>\n",
       "      <td>80</td>\n",
       "      <td>135</td>\n",
       "    </tr>\n",
       "    <tr>\n",
       "      <th>4</th>\n",
       "      <td>23</td>\n",
       "      <td>1</td>\n",
       "      <td>22.6</td>\n",
       "      <td>89.0</td>\n",
       "      <td>139</td>\n",
       "      <td>64.8</td>\n",
       "      <td>61.0</td>\n",
       "      <td>2.0</td>\n",
       "      <td>4.1897</td>\n",
       "      <td>68</td>\n",
       "      <td>97</td>\n",
       "    </tr>\n",
       "  </tbody>\n",
       "</table>\n",
       "</div>"
      ],
      "text/plain": [
       "   59  2  32.1    101  157   93.2    38    4  4.8598  87  151\n",
       "0  48  1  21.6   87.0  183  103.2  70.0  3.0  3.8918  69   75\n",
       "1  72  2  30.5   93.0  156   93.6  41.0  4.0  4.6728  85  141\n",
       "2  24  1  25.3   84.0  198  131.4  40.0  5.0  4.8903  89  206\n",
       "3  50  1  23.0  101.0  192  125.4  52.0  4.0  4.2905  80  135\n",
       "4  23  1  22.6   89.0  139   64.8  61.0  2.0  4.1897  68   97"
      ]
     },
     "execution_count": 3,
     "metadata": {},
     "output_type": "execute_result"
    }
   ],
   "source": [
    "data.head()"
   ]
  },
  {
   "cell_type": "code",
   "execution_count": 4,
   "metadata": {},
   "outputs": [
    {
     "data": {
      "text/plain": [
       "(441, 11)"
      ]
     },
     "execution_count": 4,
     "metadata": {},
     "output_type": "execute_result"
    }
   ],
   "source": [
    "data.shape"
   ]
  },
  {
   "cell_type": "markdown",
   "metadata": {},
   "source": [
    "### Data: X, Y"
   ]
  },
  {
   "cell_type": "code",
   "execution_count": 5,
   "metadata": {},
   "outputs": [],
   "source": [
    "data = np.array(data)"
   ]
  },
  {
   "cell_type": "code",
   "execution_count": 6,
   "metadata": {},
   "outputs": [
    {
     "name": "stdout",
     "output_type": "stream",
     "text": [
      "(441, 10)\n"
     ]
    }
   ],
   "source": [
    "x = data[:,:10]\n",
    "print(x.shape)"
   ]
  },
  {
   "cell_type": "code",
   "execution_count": 7,
   "metadata": {},
   "outputs": [
    {
     "name": "stdout",
     "output_type": "stream",
     "text": [
      "(441,)\n"
     ]
    }
   ],
   "source": [
    "y = data[:,10]\n",
    "print(y.shape)"
   ]
  },
  {
   "cell_type": "code",
   "execution_count": 8,
   "metadata": {},
   "outputs": [],
   "source": [
    "def one_feature_regression(x, y, idx):\n",
    "    X = x[:,[idx]]\n",
    "    Y = y\n",
    "    model = linear_model.LinearRegression()\n",
    "    model.fit(X,Y)\n",
    "    y_pred = model.predict(X)\n",
    "    return y_pred "
   ]
  },
  {
   "cell_type": "code",
   "execution_count": 9,
   "metadata": {},
   "outputs": [],
   "source": [
    "#Predicton and plots\n",
    "index = 2\n",
    "predictions = one_feature_regression(x, y, index)"
   ]
  },
  {
   "cell_type": "markdown",
   "metadata": {},
   "source": [
    "### Plots"
   ]
  },
  {
   "cell_type": "code",
   "execution_count": 10,
   "metadata": {},
   "outputs": [
    {
     "data": {
      "text/plain": [
       "[<matplotlib.lines.Line2D at 0x19b8cd26240>]"
      ]
     },
     "execution_count": 10,
     "metadata": {},
     "output_type": "execute_result"
    },
    {
     "data": {
      "image/png": "[encoded data removed]",
      "text/plain": [
       "<Figure size 432x288 with 1 Axes>"
      ]
     },
     "metadata": {
      "needs_background": "light"
     },
     "output_type": "display_data"
    }
   ],
   "source": [
    "xp = x[:,index]\n",
    "yp = y\n",
    "\n",
    "plt.scatter(xp, yp,  c='b')\n",
    "plt.plot(xp, predictions,  c='r')"
   ]
  },
  {
   "cell_type": "code",
   "execution_count": 11,
   "metadata": {},
   "outputs": [
    {
     "name": "stdout",
     "output_type": "stream",
     "text": [
      "Mean squared error:  3891.144564073129\n"
     ]
    }
   ],
   "source": [
    "print(\"Mean squared error: \", mean_squared_error(y, predictions))"
   ]
  },
  {
   "cell_type": "markdown",
   "metadata": {},
   "source": [
    "### Predict y using more features"
   ]
  },
  {
   "cell_type": "code",
   "execution_count": 12,
   "metadata": {},
   "outputs": [],
   "source": [
    "#Data Split\n",
    "x_train, x_test, y_train, y_test = train_test_split(x, y, test_size=0.20, random_state=42)"
   ]
  },
  {
   "cell_type": "code",
   "execution_count": 13,
   "metadata": {},
   "outputs": [],
   "source": [
    "def regression_model(x, y, idx):\n",
    "    X = x[:,idx]\n",
    "    model = linear_model.LinearRegression()\n",
    "    model.fit(X,y)\n",
    "    return model"
   ]
  },
  {
   "cell_type": "code",
   "execution_count": 14,
   "metadata": {},
   "outputs": [],
   "source": [
    "#Buil the model\n",
    "regression_model = regression_model(x_train, y_train, range(0,10))"
   ]
  },
  {
   "cell_type": "code",
   "execution_count": 15,
   "metadata": {},
   "outputs": [],
   "source": [
    "#Predict on test data\n",
    "predictions = regression_model.predict(x_test)"
   ]
  },
  {
   "cell_type": "code",
   "execution_count": 16,
   "metadata": {},
   "outputs": [
    {
     "name": "stdout",
     "output_type": "stream",
     "text": [
      "Mean Squared Error 3213.456971413056\n"
     ]
    }
   ],
   "source": [
    "#Mean Squared Error\n",
    "print('Mean Squared Error', mean_squared_error(y_test, predictions))"
   ]
  },
  {
   "cell_type": "code",
   "execution_count": null,
   "metadata": {},
   "outputs": [],
   "source": []
  },
  {
   "cell_type": "code",
   "execution_count": null,
   "metadata": {},
   "outputs": [],
   "source": []
  }
 ],
 "metadata": {
  "kernelspec": {
   "display_name": "Python 3",
   "language": "python",
   "name": "python3"
  },
  "language_info": {
   "codemirror_mode": {
    "name": "ipython",
    "version": 3
   },
   "file_extension": ".py",
   "mimetype": "text/x-python",
   "name": "python",
   "nbconvert_exporter": "python",
   "pygments_lexer": "ipython3",
   "version": "3.7.1"
  }
 },
 "nbformat": 4,
 "nbformat_minor": 2
}
